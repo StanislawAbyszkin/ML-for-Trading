{
 "cells": [
  {
   "cell_type": "code",
   "execution_count": 25,
   "metadata": {},
   "outputs": [
    {
     "name": "stdout",
     "output_type": "stream",
     "text": [
      "         Date       Open       High        Low      Close    Volume  Adj Close\n0  2016-05-18  94.160004  95.209999  93.889999  94.559998  41923100  94.559998\n1  2016-05-17  94.550003  94.699997  93.010002  93.489998  46507400  93.489998\n2  2016-05-16  92.389999  94.389999  91.650002  93.879997  61140600  93.879997\n"
     ]
    }
   ],
   "source": [
    "\"\"\" TUTORIAL FOR USING PANDAS DATAFRAME WITH SINGLE STOCKS\"\"\"\n",
    "\n",
    "import pandas as pd\n",
    "import matplotlib.pyplot as plt\n",
    "\n",
    "%matplotlib inline\n",
    "\n",
    "df = pd.read_csv('data/AAPL.csv')\n",
    "print df.head(3)"
   ]
  },
  {
   "cell_type": "code",
   "execution_count": 26,
   "metadata": {},
   "outputs": [
    {
     "name": "stdout",
     "output_type": "stream",
     "text": [
      "Max close for IBM\n649.000015\nMax close for AAPL\n702.100021\n"
     ]
    }
   ],
   "source": [
    "def get_max_close(symbol):\n",
    "    df = pd.read_csv('data/{}.csv'.format(symbol))\n",
    "    return df['Close'].max()\n",
    "\n",
    "for symbol in ['IBM', 'AAPL']:\n",
    "    print 'Max close for', symbol\n",
    "    print get_max_close(symbol)"
   ]
  },
  {
   "cell_type": "code",
   "execution_count": 27,
   "metadata": {},
   "outputs": [
    {
     "name": "stdout",
     "output_type": "stream",
     "text": [
      "Mean volume for IBM\n4892327.20432\nMean volume for AAPL\n91646677.5937\n"
     ]
    }
   ],
   "source": [
    "def get_mean_volume(symbol):\n",
    "    df = pd.read_csv('data/{}.csv'.format(symbol))\n",
    "    return df['Volume'].mean()\n",
    "\n",
    "for symbol in ['IBM', 'AAPL']:\n",
    "    print 'Mean volume for', symbol\n",
    "    print get_mean_volume(symbol)"
   ]
  },
  {
   "cell_type": "code",
   "execution_count": 29,
   "metadata": {},
   "outputs": [],
   "source": [
    "df = pd.read_csv('data/AAPL.csv')\n",
    "df[0:1000]['Adj Close'].plot()\n",
    "plt.show()"
   ]
  },
  {
   "cell_type": "code",
   "execution_count": null,
   "metadata": {},
   "outputs": [],
   "source": [
    ""
   ]
  }
 ],
 "metadata": {
  "kernelspec": {
   "display_name": "Python 2",
   "language": "python",
   "name": "python2"
  },
  "language_info": {
   "codemirror_mode": {
    "name": "ipython",
    "version": 2.0
   },
   "file_extension": ".py",
   "mimetype": "text/x-python",
   "name": "python",
   "nbconvert_exporter": "python",
   "pygments_lexer": "ipython2",
   "version": "2.7.11"
  }
 },
 "nbformat": 4,
 "nbformat_minor": 0
}
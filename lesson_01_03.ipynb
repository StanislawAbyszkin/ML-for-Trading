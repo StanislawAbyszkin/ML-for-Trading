{
 "cells": [
  {
   "cell_type": "code",
   "execution_count": 2,
   "metadata": {
    "collapsed": true
   },
   "outputs": [],
   "source": [
    "\"\"\" INTRODUCTION TUTORIAL FOR NUMPY \"\"\"\n",
    "import numpy as np"
   ]
  },
  {
   "cell_type": "code",
   "execution_count": 4,
   "metadata": {},
   "outputs": [
    {
     "name": "stdout",
     "output_type": "stream",
     "text": [
      "[[1 2 3]\n [4 5 6]]\n"
     ]
    }
   ],
   "source": [
    "print np.array([(1,2,3),(4,5,6)])"
   ]
  },
  {
   "cell_type": "code",
   "execution_count": 9,
   "metadata": {},
   "outputs": [
    {
     "name": "stdout",
     "output_type": "stream",
     "text": [
      "[  0.00000000e+000   0.00000000e+000   2.47032823e-323   0.00000000e+000\n   2.12354999e-314]\n[[1 1 1]\n [1 1 1]\n [1 1 1]]\n"
     ]
    }
   ],
   "source": [
    "print np.empty(5)\n",
    "print np.ones((3,3), dtype=np.int_)"
   ]
  },
  {
   "cell_type": "code",
   "execution_count": 23,
   "metadata": {},
   "outputs": [
    {
     "name": "stdout",
     "output_type": "stream",
     "text": [
      "[[3 3 9]\n [7 6 5]\n [8 7 2]]\n"
     ]
    }
   ],
   "source": [
    "\"\"\" Generating random numbers\"\"\"\n",
    "print np.random.randint(0,10,(3,3))"
   ]
  },
  {
   "cell_type": "code",
   "execution_count": 28,
   "metadata": {},
   "outputs": [
    {
     "name": "stdout",
     "output_type": "stream",
     "text": [
      "# of rows: 5\n# of cols: 4\nint64\n"
     ]
    }
   ],
   "source": [
    "a = np.random.randint(0,100,(5,4))\n",
    "\n",
    "print \"# of rows:\", a.shape[0]\n",
    "print \"# of cols:\", a.shape[1]\n",
    "print a.dtype"
   ]
  },
  {
   "cell_type": "code",
   "execution_count": 40,
   "metadata": {},
   "outputs": [
    {
     "name": "stdout",
     "output_type": "stream",
     "text": [
      "Array:\n[[2 0 5 1]\n [1 3 4 4]\n [9 2 9 1]\n [9 3 7 5]\n [4 7 0 3]]\nArray sum: 79\nSum of each column:\n[25 15 25 14]\nSum of each row:\n[ 8 12 21 24 14]\n"
     ]
    }
   ],
   "source": [
    "\"\"\" Operations on ndarrays \"\"\"\n",
    "np.random.seed(693)\n",
    "a = np.random.randint(0,10,size=(5,4))\n",
    "\n",
    "print \"Array:\\n\", a                             # print array\n",
    "print \"Array sum:\", a.sum()                     # print sum of the array\n",
    "print \"Sum of each column:\\n\", a.sum(axis=0)    # print vector of sums over columns\n",
    "print \"Sum of each row:\\n\", a.sum(axis=1)       # print vector of sums over rows"
   ]
  },
  {
   "cell_type": "code",
   "execution_count": 44,
   "metadata": {},
   "outputs": [
    {
     "name": "stdout",
     "output_type": "stream",
     "text": [
      "Hello World\nIt took 0.000149965286255 s to print statement\n"
     ]
    }
   ],
   "source": [
    "\"\"\" Record time of function execution \"\"\"\n",
    "import time\n",
    "\n",
    "t1 = time.time()\n",
    "print \"Hello World\"\n",
    "t2 = time.time()\n",
    "print \"It took\" ,t2-t1,\"s to print statement\""
   ]
  },
  {
   "cell_type": "code",
   "execution_count": 47,
   "metadata": {},
   "outputs": [
    {
     "name": "stdout",
     "output_type": "stream",
     "text": [
      "[ 0.31127579  0.62872047  0.07569968  0.54876981  0.53860522]\n[ 0.54876981  0.07569968  0.62872047]\n"
     ]
    }
   ],
   "source": [
    "\"\"\" Indexing and stuff \"\"\"\n",
    "a = np.random.rand(5)\n",
    "indeces =np.array([3,2,1])\n",
    "\n",
    "print a\n",
    "print a[indeces]"
   ]
  },
  {
   "cell_type": "code",
   "execution_count": 51,
   "metadata": {},
   "outputs": [
    {
     "name": "stdout",
     "output_type": "stream",
     "text": [
      "[[14 15  4 12]\n [ 9 17 17 11]\n [16  0  3  2]\n [ 1  9  2 15]\n [ 7  2 19  3]]\n8.9\n[14 15 12  9 17 17 11 16  9 15 19]\n"
     ]
    }
   ],
   "source": [
    "\"\"\" Masking with booleans\"\"\"\n",
    "a = np.random.randint(0,20,(5,4))\n",
    "print a\n",
    "\n",
    "print a.mean()\n",
    "print a[a>a.mean()]"
   ]
  },
  {
   "cell_type": "code",
   "execution_count": null,
   "metadata": {},
   "outputs": [],
   "source": [
    "\"\"\" Arithmetical operations\"\"\"\n",
    "print \"Array a:\\n\", a\n",
    "print \"Division by 2:\\n\", a/2.0"
   ]
  },
  {
   "cell_type": "code",
   "execution_count": null,
   "outputs": [],
   "source": [
    ""
   ]
  }
 ],
 "metadata": {
  "kernelspec": {
   "display_name": "Python 2",
   "language": "python",
   "name": "python2"
  },
  "language_info": {
   "codemirror_mode": {
    "name": "ipython",
    "version": 2.0
   },
   "file_extension": ".py",
   "mimetype": "text/x-python",
   "name": "python",
   "nbconvert_exporter": "python",
   "pygments_lexer": "ipython2",
   "version": "2.7.6"
  }
 },
 "nbformat": 4,
 "nbformat_minor": 0
}
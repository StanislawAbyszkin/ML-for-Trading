{
 "cells": [
  {
   "cell_type": "code",
   "execution_count": 2,
   "metadata": {
    "collapsed": true
   },
   "outputs": [],
   "source": [
    "\"\"\" This is portfolio optimizer, trying to find best perfoming portofio in terms of Sharp ratio.\"\"\"\n",
    "\"\"\" Minimizer examples\"\"\"\n",
    "\n",
    "%matplotlib inline\n",
    "import matplotlib.pyplot as plt\n",
    "\n",
    "import os\n",
    "import numpy as np\n",
    "import pandas as pd\n",
    "import scipy.optimize as spo\n",
    "from math import sqrt"
   ]
  },
  {
   "cell_type": "code",
   "execution_count": 3,
   "metadata": {},
   "outputs": [],
   "source": [
    "\"\"\" Functions to use later in the program \"\"\"\n",
    "def symbol_to_path(symbol, base_dir='data'):\n",
    "    \"\"\"Return CSV file path given ticker symbol\"\"\"\n",
    "    return os.path.join(base_dir, \"{}.csv\".format(str(symbol)))\n",
    "\n",
    "def get_data(symbols, dates):\n",
    "    \"\"\"Read stock data (adjusted close) for given symbols from CSV files.\"\"\"\n",
    "    df = pd.DataFrame(index=dates)\n",
    "    if 'SPY' not in symbols:  # add SPY for reference, if absent\n",
    "        symbols.insert(0, 'SPY')\n",
    "\n",
    "    for symbol in symbols:\n",
    "        # TODO: Read and join data for each symbol\n",
    "        df_temp = pd.read_csv(symbol_to_path(symbol), index_col = \"Date\", parse_dates = True, usecols = ['Date', 'Adj Close'], na_values = ['nan'])\n",
    "        df_temp = df_temp.rename(columns = {'Adj Close': symbol})\n",
    "        df = df.join(df_temp, how = 'inner')\n",
    "        df.dropna()\n",
    "    df = df.sort_index()\n",
    "    return df\n",
    "\n",
    "def plot_data(df, title=\"Stock prices\"):\n",
    "    \"\"\"Plot stock prices with a custom title and meaningful axis labels.\"\"\"\n",
    "    ax = df.plot(title=title, fontsize=12)\n",
    "    ax.set_xlabel(\"Date\")\n",
    "    ax.set_ylabel(\"Price\")\n",
    "    plt.show()\n",
    "    \n",
    "def normalize_data(dataframe):\n",
    "    \"\"\" Normalize stock prices using first row of the dataframe\"\"\"\n",
    "    return dataframe / dataframe.ix[0,:]\n",
    "\n",
    "def compute_daily_returns(df):\n",
    "    \"\"\"Compute and return the daily return values.\"\"\"\n",
    "    df = df.pct_change()\n",
    "    df.ix[0] = 0\n",
    "    return df"
   ]
  },
  {
   "cell_type": "code",
   "execution_count": 4,
   "metadata": {},
   "outputs": [
    {
     "name": "stdout",
     "output_type": "stream",
     "text": [
      "              GOOG     IBM    AAPL    XOM\n2010-01-04  626.75  126.24  213.10  64.55\n2010-01-05  623.99  124.71  213.46  64.80\n2010-01-06  608.26  123.90  210.07  65.36\n2010-01-07  594.10  123.47  209.68  65.15\n2010-01-08  602.02  124.71  211.07  64.89\n"
     ]
    }
   ],
   "source": [
    "\"\"\" Load data for few stocks to choose from for the portfolio.\"\"\"\n",
    "# Define start and end dates.\n",
    "start_date = '2010-01-01'\n",
    "end_date = '2010-12-31'\n",
    "dates = pd.date_range(start_date,end_date)\n",
    "\n",
    "# Choose which stocks to use\n",
    "symbols = ['GOOG', 'IBM', 'AAPL', 'XOM']\n",
    "\n",
    "# Get stock data into DataFrame\n",
    "df = get_data(symbols, dates)\n",
    "df = df.drop('SPY',1)           # Don't need SPY here, so it's removed.\n",
    "print df.head(5)"
   ]
  },
  {
   "cell_type": "code",
   "execution_count": 9,
   "metadata": {},
   "outputs": [
    {
     "name": "stdout",
     "output_type": "stream",
     "text": [
      "Cash after this allocations: 1249275 $\nCumulative return: 24.93%\nSharp ratio for given portfolio: 0.028\n"
     ]
    }
   ],
   "source": [
    "# Portfolio variables\n",
    "start_cash = 1000000\n",
    "allocations = np.array([0.1,0.2,0.4,0.3])\n",
    "\n",
    "normalized_prices = normalize_data(df)\n",
    "allocated = normalized_prices * allocations\n",
    "position_vals = allocated * start_cash\n",
    "portfolio_vals = position_vals.sum(axis=1)\n",
    "portfolio_rets = compute_daily_returns(portfolio_vals)\n",
    "portfolio_rets = portfolio_rets[1:]\n",
    "\n",
    "print 'Cash after this allocations: {:.0f} $'.format(portfolio_vals[-1])\n",
    "print 'Cumulative return: {:.2f}%'.format((portfolio_vals[-1] / start_cash - 1)*100)\n",
    "print 'Sharp ratio for given portfolio: {:.3f}'.format(calculate_sharp_ratio(portfolio_rets))"
   ]
  },
  {
   "cell_type": "code",
   "execution_count": 10,
   "metadata": {},
   "outputs": [],
   "source": [
    "# Create Sharp ratio calculator\n",
    "def calculate_sharp_ratio(dataframe, risk_free=0.,sampling=252.):\n",
    "    dataframe = compute_daily_returns(dataframe)\n",
    "    std = dataframe.std()\n",
    "    mean = dataframe.mean()\n",
    "    return sqrt(sampling) * (mean - risk_free)/std"
   ]
  },
  {
   "cell_type": "code",
   "execution_count": 24,
   "metadata": {},
   "outputs": [],
   "source": [
    "# Define error function for optimizer to minimize\n",
    "def minimizeFunction(portfolio_allocs,data=df):\n",
    "    normalized_prices = normalize_data(data)\n",
    "    allocated = normalized_prices * portfolio_allocs\n",
    "    portfolio_vals = allocated.sum(axis=1)\n",
    "    \n",
    "    portfolio_rets = compute_daily_returns(portfolio_vals)\n",
    "    portfolio_rets = portfolio_rets[1:]\n",
    "    sharpRatio = calculate_sharp_ratio(portfolio_rets)\n",
    "    # print 'Sharp ratio: {:.2f}, sum:{:.3f}, allocs: {}'.format(sharpRatio,sum(abs(portfolio_allocs)),portfolio_allocs)\n",
    "    return -sharpRatio"
   ]
  },
  {
   "cell_type": "code",
   "execution_count": 47,
   "metadata": {},
   "outputs": [
    {
     "name": "stdout",
     "output_type": "stream",
     "text": [
      "Optimization terminated successfully.    (Exit mode 0)\n            Current function value: -1.00173122864\n            Iterations: 17\n            Function evaluations: 203\n            Gradient evaluations: 17\nMinima found at:\nX = [  6.47717940e-04   4.23800701e-02   1.86265420e-01   7.70706794e-01], sharp ratio = -1.00173122864\n"
     ]
    }
   ],
   "source": [
    "cons={\n",
    "    'type': 'eq',\n",
    "    'fun' : lambda x : sum(abs(x)) - 1.\n",
    "}\n",
    "bnds=(\n",
    "    (0.,1.),\n",
    "    (0.,1.),\n",
    "    (0.,1.),\n",
    "    (0.,1.)\n",
    ")\n",
    "np.random.seed()\n",
    "x_guess = np.random.rand(4)\n",
    "min_result = spo.minimize(minimizeFunction,x_guess, method='SLSQP',bounds=bnds, constraints=cons, options={'disp':True})\n",
    "print 'Minima found at:'\n",
    "print 'X = {}, sharp ratio = {}'.format(min_result.x,min_result.fun)"
   ]
  },
  {
   "cell_type": "code",
   "execution_count": 42,
   "metadata": {},
   "outputs": [],
   "source": [
    ""
   ]
  },
  {
   "cell_type": "code",
   "execution_count": null,
   "metadata": {},
   "outputs": [],
   "source": [
    ""
   ]
  }
 ],
 "metadata": {
  "kernelspec": {
   "display_name": "Python 2",
   "language": "python",
   "name": "python2"
  },
  "language_info": {
   "codemirror_mode": {
    "name": "ipython",
    "version": 2.0
   },
   "file_extension": ".py",
   "mimetype": "text/x-python",
   "name": "python",
   "nbconvert_exporter": "python",
   "pygments_lexer": "ipython2",
   "version": "2.7.6"
  }
 },
 "nbformat": 4,
 "nbformat_minor": 0
}
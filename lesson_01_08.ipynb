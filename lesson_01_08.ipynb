{
 "cells": [
  {
   "cell_type": "code",
   "execution_count": null,
   "metadata": {
    "collapsed": true
   },
   "outputs": [],
   "source": [
    "\"\"\" Minimizer examples\"\"\"\n",
    "\n",
    "%matplotlib inline\n",
    "import matplotlib.pyplot as plt\n",
    "\n",
    "import numpy as np\n",
    "import pandas as pd\n",
    "import scipy.optimize as spo"
   ]
  },
  {
   "cell_type": "code",
   "execution_count": null,
   "metadata": {},
   "outputs": [],
   "source": [
    "def f(x):\n",
    "    y = x**2 + 0.5\n",
    "    print \"X = {}, Y = {}\".format(x,y)\n",
    "    return y\n",
    "\n",
    "x_guess = 2.0\n",
    "min_result = spo.minimize(f,x_guess, method='SLSQP', options={'disp':True})\n",
    "print 'Minima found at:'\n",
    "print 'X = {}, Y = {}'.format(min_result.x,min_result.fun)"
   ]
  },
  {
   "cell_type": "code",
   "execution_count": 1,
   "metadata": {},
   "outputs": [],
   "source": [
    "cons={\n",
    "    'type': 'eq',\n",
    "    'fun' : lambda x : sum(abs(x))\n",
    "}\n",
    "x_guess = 3.0\n",
    "min_result = spo.minimize(f,x_guess, method='SLSQP',constraints=cons, options={'disp':True})\n",
    "print 'Minima found at:'\n",
    "print 'X = {}, Y = {}'.format(min_result.x,min_result.fun)"
   ]
  },
  {
   "cell_type": "code",
   "execution_count": null,
   "metadata": {},
   "outputs": [],
   "source": [
    ""
   ]
  }
 ],
 "metadata": {
  "kernelspec": {
   "display_name": "Python 2",
   "language": "python",
   "name": "python2"
  },
  "language_info": {
   "codemirror_mode": {
    "name": "ipython",
    "version": 2.0
   },
   "file_extension": ".py",
   "mimetype": "text/x-python",
   "name": "python",
   "nbconvert_exporter": "python",
   "pygments_lexer": "ipython2",
   "version": "2.7.6"
  }
 },
 "nbformat": 4,
 "nbformat_minor": 0
}
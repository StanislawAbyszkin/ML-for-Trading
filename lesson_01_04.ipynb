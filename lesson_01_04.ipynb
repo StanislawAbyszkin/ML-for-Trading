{
 "cells": [
  {
   "cell_type": "code",
   "execution_count": 5,
   "metadata": {
    "collapsed": true
   },
   "outputs": [],
   "source": [
    "\"\"\" Statistical Analysis of time series\"\"\"\n",
    "import pandas as pd\n",
    "import os"
   ]
  },
  {
   "cell_type": "code",
   "execution_count": 16,
   "metadata": {},
   "outputs": [],
   "source": [
    "# Define start and end dates.\n",
    "start_date = '2014-01-01'\n",
    "end_date = '2014-12-31'\n",
    "dates = pd.date_range(start_date,end_date)\n",
    "\n",
    "# Building simple empty DataFrame with date indexing.\n",
    "df1 = pd.DataFrame(index=dates)\n",
    "\n",
    "def symbol_to_path(symbol, base_dir='data'):\n",
    "    \"\"\"Return CSV file path given ticker symbol\"\"\"\n",
    "    return os.path.join(base_dir, \"{}.csv\".format(str(symbol)))\n",
    "\n",
    "def get_data(symbols, dates):\n",
    "    \"\"\"Read stock data (adjusted close) for given symbols from CSV files.\"\"\"\n",
    "    df = pd.DataFrame(index=dates)\n",
    "    if 'SPY' not in symbols:  # add SPY for reference, if absent\n",
    "        symbols.insert(0, 'SPY')\n",
    "\n",
    "    for symbol in symbols:\n",
    "        # TODO: Read and join data for each symbol\n",
    "        df_temp = pd.read_csv(symbol_to_path(symbol), index_col = \"Date\", parse_dates = True, usecols = ['Date', 'Adj Close'], na_values = ['nan'])\n",
    "        df_temp = df_temp.rename(columns = {'Adj Close': symbol})\n",
    "        df = df.join(df_temp, how = 'inner')\n",
    "        df.dropna()\n",
    "    df = df.sort_index()\n",
    "    return df"
   ]
  },
  {
   "cell_type": "code",
   "execution_count": 17,
   "metadata": {},
   "outputs": [
    {
     "name": "stdout",
     "output_type": "stream",
     "text": [
      "Mean:\nSPY     1930.901369\nGOOG     561.643600\nIBM      170.985141\nAAPL      88.913960\nGOLD    1265.838105\ndtype: float64\n\nStandard deviation:\nSPY     79.574146\nGOOG    25.918882\nIBM     10.131903\nAAPL    13.389197\nGOLD    50.591624\ndtype: float64\n"
     ]
    }
   ],
   "source": [
    "symbols = ['GOOG', 'IBM', 'AAPL']\n",
    "\n",
    "# Get stock data\n",
    "df = get_data(symbols, dates)\n",
    "\n",
    "# Import gold to dataframe\n",
    "df_temp = pd.read_csv(symbol_to_path('GOLD'), index_col=\"Date\", parse_dates=True, usecols =['Date','USD (AM)'])\n",
    "df_temp = df_temp.rename(columns={'USD (AM)':\"GOLD\"})\n",
    "df = df.join(df_temp,how='inner')\n",
    "df = df.sort_index()\n",
    "\n",
    "print \"Mean:\\n\", df.mean()\n",
    "print \"\\nStandard deviation:\\n\", df.std()"
   ]
  },
  {
   "cell_type": "code",
   "execution_count": null,
   "metadata": {},
   "outputs": [],
   "source": [
    "ax = df['SPY'].plot(title=\"SPY Rolling Mean\", label='SPY')\n",
    "\n",
    "rm_SPY = pd.rolling_mean(df['SPY'],window=20)\n",
    "rm_SPY.plot(label='Rolling mean', ax=ax)\n",
    "\n",
    "# Add labels to plot\n",
    "ax.set_xlabel('Date')\n",
    "ax.set_ylabel('Price')\n",
    "ax.legend(loc='upper left')\n",
    "plt.show()"
   ]
  },
  {
   "cell_type": "code",
   "execution_count": null,
   "outputs": [],
   "source": [
    ""
   ]
  }
 ],
 "metadata": {
  "kernelspec": {
   "display_name": "Python 2",
   "language": "python",
   "name": "python2"
  },
  "language_info": {
   "codemirror_mode": {
    "name": "ipython",
    "version": 2.0
   },
   "file_extension": ".py",
   "mimetype": "text/x-python",
   "name": "python",
   "nbconvert_exporter": "python",
   "pygments_lexer": "ipython2",
   "version": "2.7.6"
  }
 },
 "nbformat": 4,
 "nbformat_minor": 0
}